{
 "cells": [
  {
   "cell_type": "code",
   "execution_count": null,
   "metadata": {},
   "outputs": [],
   "source": [
    "from nt import replace\n",
    "from typing import Dict, Tuple, List, Set \n",
    "\n",
    "def get_stats(vocab: Dict[str, int]) -> Dict[Tuple[str, str], int]:\n",
    "    pairs:Dict[Tuple[str, str], int] = {}\n",
    "    for word, freq in vocab.items():\n",
    "        symbols :List[str] = word.split()\n",
    "        for i in range (len(symbols) -1):\n",
    "            pair = (symbols[i],symbols[i+1])\n",
    "            pairs[pair] = pairs.get(pair,0) + freq\n",
    "    return pairs \n",
    "\n",
    "def merge_vocab(pair: Tuple[str, str], vocab: Dict[str, int]) -> Dict[str, int]:\n",
    "    new_vocab: Dict[str,int] = {}\n",
    "    bigram :str = ' '.join(pair)\n",
    "    replacement : str = ''.join(pair)\n",
    "    for word in vocab:\n",
    "        new_word:str = word.replace(bigram, replacement)\n",
    "        new_vocab[new_word] = vocab[word]\n",
    "    return new_vocab\n"
   ]
  },
  {
   "cell_type": "code",
   "execution_count": null,
   "metadata": {},
   "outputs": [],
   "source": []
  }
 ],
 "metadata": {
  "kernelspec": {
   "display_name": "venv",
   "language": "python",
   "name": "python3"
  },
  "language_info": {
   "name": "python",
   "version": "3.9.6"
  }
 },
 "nbformat": 4,
 "nbformat_minor": 2
}
