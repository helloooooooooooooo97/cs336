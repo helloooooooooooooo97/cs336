{
 "cells": [
  {
   "cell_type": "markdown",
   "metadata": {},
   "source": [
    "# DAY0：课程介绍 "
   ]
  },
  {
   "cell_type": "markdown",
   "metadata": {},
   "source": [
    "## 官网介绍  \n",
    "\n",
    "### **课程概述**  \n",
    "斯坦福大学2025年春季开设的**CS336课程**（*Language Models from Scratch*）是一门以实践为核心的深度学习课程，旨在引导学生从零开始构建完整的语言模型（LLM）。课程借鉴了操作系统“从零搭建”的教学理念，涵盖从数据预处理到模型训练、优化及对齐的全流程，帮助学生深入理解大模型的底层原理与工程实现。  \n",
    "\n",
    "### **核心目标**  \n",
    "1. **全流程实践**：学生将独立完成语言模型开发的各个环节，包括数据收集与清洗、Transformer架构设计、分布式训练及模型评估。  \n",
    "2. **系统级理解**：不仅关注模型本身，还涉及GPU并行计算、内存优化（如Flash Attention）、Scaling Law分析等系统级挑战。  \n",
    "3. **对齐与安全**：通过监督微调（SFT）、强化学习（RLHF）等技术，探索模型对齐人类价值观的方法。  \n",
    "\n",
    "### **课程内容与结构**  \n",
    "课程分为**五大模块**，共19门课，具体包括：  \n",
    "1. **基础**：Tokenization（如BPE算法）、PyTorch底层实现（禁用高级API）、资源管理。  \n",
    "2. **系统与扩展**：GPU优化（Triton内核）、混合专家模型（MoE）、分布式训练（数据并行+优化器分片）。  \n",
    "3. **Scaling Law**：通过IsoFLOP拟合模型性能与计算资源的关系，模拟高风险训练决策。  \n",
    "4. **数据工程**：从Common Crawl中提取高质量文本，处理重复数据、有害内容及隐私信息（PII）。  \n",
    "5. **对齐与推理**：实现监督微调、GRPO（广义强化策略优化）等对齐技术，并在Qwen 2.5 Math等模型上提升数学任务表现。  \n",
    "\n",
    "### **实践作业亮点**  \n",
    "- **作业1**：从零实现Transformer架构、Adam优化器，在TinyStories数据集上训练模型（仅允许使用PyTorch原语）。  \n",
    "- **作业2**：用Triton编写Flash Attention 2，部署分布式训练系统。  \n",
    "- **作业3**：通过虚拟API拟合Scaling Law，优化计算预算分配。  \n",
    "- **作业4**：清洗Common Crawl数据，解决实际工程中的噪声问题。  \n",
    "- **作业5**：在Qwen 2.5 Math上应用强化学习提升数学推理能力（使用vLLM推理框架）。  \n",
    "\n",
    "### **师资力量**  \n",
    "- **Percy Liang**（课程主讲人）：斯坦福大学副教授，基础模型研究中心（CRFM）主任，引用量超10万，研究涵盖AI对齐与NLP。  \n",
    "- **Tatsunori Hashimoto**：助理教授，专注模型鲁棒性与系统优化，MIT背景，H指数3万+。  \n",
    "- **客座嘉宾**：阿里巴巴Qwen团队负责人Junyang Lin、Meta AI科学家Mike Lewis（Llama 3预训练负责人）等。  \n",
    "\n",
    "### **先修要求**  \n",
    "- **编程**：熟练Python及软件工程（需大量手写代码）。  \n",
    "- **数学**：线性代数、概率统计、微积分基础。  \n",
    "- **机器学习**：熟悉PyTorch、深度学习基础（如CS224N等课程）。  \n",
    "\n",
    "### **课程资源**  \n",
    "- **视频与材料**：公开于[YouTube播放列表](https://www.youtube.com/watch?v=SQ3fZ1sAqXI&list=PLoROMvodv4rOY23Y0BoGoBGgQ1zmU_MT_)及[课程官网](https://stanford-cs336.github.io/spring2025/)。  \n",
    "- **纪念品**：完成课程的学生将获得定制T恤（含课程主题设计）。  \n",
    "\n",
    "### **适合人群**  \n",
    "希望深入理解大模型技术细节的研究生、工程师或研究者，尤其适合计划从事LLM开发、系统优化或AI对齐方向的专业人士。  "
   ]
  }
 ],
 "metadata": {
  "language_info": {
   "name": "python"
  }
 },
 "nbformat": 4,
 "nbformat_minor": 2
}
