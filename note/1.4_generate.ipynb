{
 "cells": [
  {
   "cell_type": "markdown",
   "id": "ba75f20b",
   "metadata": {},
   "source": [
    "# 1.4 generate text\n",
    "\n"
   ]
  }
 ],
 "metadata": {
  "language_info": {
   "name": "python"
  }
 },
 "nbformat": 4,
 "nbformat_minor": 5
}
